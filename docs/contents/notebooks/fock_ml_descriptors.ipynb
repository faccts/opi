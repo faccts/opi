{
 "cells": [
  {
   "cell_type": "code",
   "execution_count": 7,
   "id": "2f362787",
   "metadata": {
    "ExecuteTime": {
     "end_time": "2024-12-03T08:13:13.893715Z",
     "start_time": "2024-12-03T08:13:13.889822Z"
    }
   },
   "outputs": [],
   "source": [
    "import json\n",
    "import numpy as np\n",
    "from pathlib import Path\n",
    "from scipy.io import loadmat\n",
    "from opi.core import Calculator\n",
    "from opi.input.structures.structure import Structure\n",
    "from opi.input.simple_keywords import BasisSet, Method, Scf\n",
    "from opi.input.blocks.block_loc import  BlockLoc\n",
    "\n",
    "float_formatter = \"{:.5f}\".format\n",
    "np.set_printoptions(formatter={'float_kind':float_formatter})\n",
    "config_dict = {\n",
    "\t\"MOCoefficients\": True,\n",
    "\t\"1elPropertyIntegrals\": [\"dipole\"],\n",
    "\t\"1elIntegrals\": [\"H\", \"S\"],\n",
    "        \"FockMatrix\": [\"F\", \"J\", \"K\"],\n",
    "\t\"Densities\": [\"scfp\"],\n",
    "\t\"JSONFormats\": [\"json\"]\n",
    "}"
   ]
  },
  {
   "cell_type": "code",
   "execution_count": 8,
   "id": "3d8024556542a913",
   "metadata": {
    "ExecuteTime": {
     "end_time": "2024-12-03T08:11:16.554915Z",
     "start_time": "2024-12-03T08:11:16.550857Z"
    }
   },
   "outputs": [],
   "source": [
    "def utri2mat(utri: np.ndarray) -> np.ndarray:\n",
    "    \"\"\"Convert rolled-out upper triangle to full matrix\"\"\"\n",
    "    n = int(-1 + np.sqrt(1 + 8*len(utri))) // 2\n",
    "    iu1 = np.triu_indices(n)\n",
    "    ret = np.empty((n, n))\n",
    "    ret[iu1] = utri\n",
    "    ret.T[iu1] = utri\n",
    "    return ret\n",
    "\n",
    "def trim_array(arr: np.ndarray) -> np.ndarray:\n",
    "    \"\"\"Trim a 1-D array to the last non-zero element\"\"\"\n",
    "    if arr.ndim != 1:\n",
    "        raise ValueError(\"Array must be 1-dimensional\")\n",
    "    return arr[:np.nonzero(arr)[0][-1]+1]"
   ]
  },
  {
   "cell_type": "code",
   "execution_count": 9,
   "id": "dc2a56aaa00f1fc0",
   "metadata": {
    "ExecuteTime": {
     "end_time": "2024-12-03T08:35:44.341867Z",
     "start_time": "2024-12-03T08:35:44.335808Z"
    }
   },
   "outputs": [],
   "source": [
    "def read_orbnet(file: str | Path) -> tuple[int, np.ndarray]:\n",
    "    \"\"\"Extract some features from an OrbNet data file\n",
    "\n",
    "    Returns\n",
    "    -------\n",
    "    nocc\n",
    "        Number of valence occupied MOs\n",
    "    f_diag\n",
    "        Diagonal Fock matrix elements, occ + virt, each separately sorted in ascending order\n",
    "    \"\"\"\n",
    "    diag = loadmat(str(file))['features_diag_ccpVTZ']\n",
    "    nocc = diag.shape[0]\n",
    "    f_occ_diag = diag[:,0]\n",
    "    f_virt = utri2mat(diag[0,1:211])\n",
    "    f_virt_diag = trim_array(f_virt.diagonal())\n",
    "    f_diag = np.concatenate((np.sort(f_occ_diag), np.sort(f_virt_diag)))\n",
    "    return nocc, f_diag"
   ]
  },
  {
   "cell_type": "code",
   "execution_count": 10,
   "id": "c2341e51329384f5",
   "metadata": {
    "ExecuteTime": {
     "end_time": "2024-12-03T08:35:52.424895Z",
     "start_time": "2024-12-03T08:35:52.416019Z"
    }
   },
   "outputs": [],
   "source": [
    "# read the orbnet data\n",
    "orbnet_files = sorted(Path('orbnet_data').glob('*.mat'))\n",
    "molnames = [p.stem.rsplit('_', 1)[0] for p in orbnet_files]\n",
    "orbnet_data = {mol: read_orbnet(file) for mol, file in zip(molnames, orbnet_files)}"
   ]
  },
  {
   "cell_type": "code",
   "execution_count": 11,
   "id": "60395cf7ace83727",
   "metadata": {
    "ExecuteTime": {
     "end_time": "2024-12-03T09:38:01.424210Z",
     "start_time": "2024-12-03T09:38:01.415105Z"
    }
   },
   "outputs": [],
   "source": [
    "# ORCA parsing/processing functions\n",
    "def orca_mos(orca_json: dict) -> np.ndarray:\n",
    "    \"\"\"Helper function to get MO coefficients from the ORCA JSON\"\"\"\n",
    "    return np.column_stack([mo['MOCoefficients'] for mo in orca_json['Molecule']['MolecularOrbitals']['MOs']])\n",
    "\n",
    "def orca_loc_orbwins(orca_output: Path) -> tuple[tuple[int, int] | None, tuple[int, int] | None]:\n",
    "    \"\"\"Read the valence occupied and valence virtual localized orbital windows from the ORCA output file\"\"\"\n",
    "    occ = None\n",
    "    virt = None\n",
    "    with open(orca_output) as f:\n",
    "        for line in f:\n",
    "            if not occ and 'Orbital range for localization' in line:\n",
    "                fields = line.split()\n",
    "                occ = int(fields[-3]), int(fields[-1])\n",
    "                continue\n",
    "            if not virt and 'Orbital range for VVO localization' in line:\n",
    "                fields = line.split()\n",
    "                virt = int(fields[-3]), int(fields[-1])\n",
    "                break\n",
    "    return occ, virt\n",
    "\n",
    "def orca_process(outfile: Path, jsonfile: Path) -> tuple[int, np.ndarray]:\n",
    "    \"\"\"Extract some features from ORCA output and JSON files\n",
    "\n",
    "    Returns\n",
    "    -------\n",
    "    nocc\n",
    "        Number of valence occupied MOs\n",
    "    f_diag\n",
    "        Diagonal Fock matrix elements, occ + virt, each separately sorted in ascending order\n",
    "    \"\"\"\n",
    "    # read orbital windows from the output\n",
    "    orbwin_occ, orbwin_vvo = orca_loc_orbwins(outfile)\n",
    "    nocc = orbwin_occ[1] - orbwin_occ[0] + 1\n",
    "    nvvo = orbwin_vvo[1] - orbwin_vvo[0] + 1\n",
    "    # read ORCA JSON file\n",
    "    with open(jsonfile) as f:\n",
    "        json_data = json.load(f)\n",
    "    # localized MO coefficients\n",
    "    c = orca_mos(json_data)\n",
    "    # trim to valence + VVO\n",
    "    c_val = c[:,orbwin_occ[0]:orbwin_vvo[1]+1]\n",
    "    # one-electron Hamiltonian\n",
    "    h = np.array(json_data['Molecule']['H-Matrix'])\n",
    "    # two-electron Fock matrix (alpha)\n",
    "    g = np.array(json_data['Molecule']['F-Matrix'][0])\n",
    "    # total Fock matrix\n",
    "    fao = h + g\n",
    "    # transform to localized MOs\n",
    "    fmo = c_val.T @ fao @ c_val\n",
    "    f_diag = fmo.diagonal()\n",
    "    # sort occ and virt elements\n",
    "    f_diag = np.concatenate((np.sort(f_diag[:nocc]), np.sort(f_diag[nocc:])))\n",
    "    return nocc, f_diag\n",
    "\n",
    "def orca_run(xyz_file: Path) -> None:\n",
    "    \"\"\"Run an ORCA quantum chemistry calculation from a given XYZ file.\n",
    "\n",
    "    Parameters\n",
    "    ----------\n",
    "    xyz_file : Path\n",
    "        Path to the input .xyz file. A directory with the same stem name will be created\n",
    "        in the same location to store ORCA outputs.\n",
    "    \"\"\"\n",
    "    xyz_file = Path(xyz_file)\n",
    "    mol_name = xyz_file.stem\n",
    "    working_dir = Path(\"RUN\")\n",
    "    calc = Calculator(basename=mol_name, working_dir=working_dir)\n",
    "    structure = Structure.from_xyz(xyz_file)\n",
    "    calc.structure = structure\n",
    "    calc.structure.charge = 0\n",
    "    calc.structure.multiplicity = 1\n",
    "    calc.input.add_simple_keywords(\n",
    "        Scf.TIGHTSCF,\n",
    "        Scf.NOSLOPPYSCFCHECK,\n",
    "        Scf.PMODEL,\n",
    "        BasisSet.CC_PVTZ,\n",
    "        Method.HF,\n",
    "    )\n",
    "    calc.input.add_blocks(\n",
    "        BlockLoc(locmet='newboys', locmetvirt='livvo', tol= 1e-8, occ=True, virt=True, iaobasis='minao_auto_pp')\n",
    "    )\n",
    "    runner = calc._create_runner()\n",
    "    runner.create_gbw_json(mol_name,config=config_dict)\n",
    "    calc.write_input()\n",
    "    print(\"Running ORCA calculation ...\", end=\"\")\n",
    "    calc.run()\n",
    "    print(\"   Done\")"
   ]
  },
  {
   "cell_type": "code",
   "execution_count": 12,
   "id": "ac1afa6e",
   "metadata": {},
   "outputs": [
    {
     "name": "stdout",
     "output_type": "stream",
     "text": [
      "Running ORCA calculation ...   Done\n",
      "Running ORCA calculation ...   Done\n",
      "Running ORCA calculation ...   Done\n",
      "Running ORCA calculation ...   Done\n",
      "Running ORCA calculation ...   Done\n",
      "Running ORCA calculation ...   Done\n"
     ]
    }
   ],
   "source": [
    "orca_run(Path(\"./RUN/water.xyz\"))\n",
    "orca_run(Path(\"./RUN/butane.xyz\"))\n",
    "orca_run(Path(\"./RUN/ethane.xyz\"))\n",
    "orca_run(Path(\"./RUN/isobutane.xyz\"))\n",
    "orca_run(Path(\"./RUN/methane.xyz\"))\n",
    "orca_run(Path(\"./RUN/propane.xyz\"))"
   ]
  },
  {
   "cell_type": "code",
   "execution_count": 13,
   "id": "d9c3bf8356b93588",
   "metadata": {
    "ExecuteTime": {
     "end_time": "2024-12-03T09:38:03.456755Z",
     "start_time": "2024-12-03T09:38:02.800619Z"
    }
   },
   "outputs": [],
   "source": [
    "# read the ORCA data\n",
    "xyz_files = list(Path(\"RUN\").glob(\"*.xyz\"))\n",
    "molnames = [f.stem for f in xyz_files]\n",
    "base_dir = Path(\"RUN\")\n",
    "orca_outfiles = [base_dir / f\"{mol}.out\" for mol in molnames]\n",
    "orca_jsonfiles = [base_dir / f\"{mol}.json\" for mol in molnames]\n",
    "orca_data = {mol: orca_process(outfile, jsonfile) for mol, outfile, jsonfile in zip(molnames, orca_outfiles, orca_jsonfiles)}"
   ]
  },
  {
   "cell_type": "code",
   "execution_count": 14,
   "id": "dbd2aaebcfffcc08",
   "metadata": {},
   "outputs": [
    {
     "name": "stdout",
     "output_type": "stream",
     "text": [
      "ethane: Focc differs by 0.3319560217963802!\n",
      "ethane: Fvirt differs by 0.4311658656146292!\n",
      "isobutane: Focc differs by 0.3958425907775406!\n",
      "isobutane: Fvirt differs by 0.436545883685849!\n",
      "propane: Focc differs by 0.368898752543224!\n",
      "propane: Fvirt differs by 0.4326396049755893!\n",
      "water: Focc differs by 0.4515125716353008!\n",
      "water: Fvirt differs by 0.316564239132194!\n",
      "butane: Focc differs by 0.38690507898367843!\n",
      "butane: Fvirt differs by 0.4317966851761648!\n",
      "methane: Focc differs by 0.29617198001750067!\n",
      "methane: Fvirt differs by 0.41635311707811784!\n"
     ]
    }
   ],
   "source": [
    "# compare\n",
    "for mol in molnames:\n",
    "    nocc_orbnet, fdiag_orbnet = orbnet_data[mol]\n",
    "    nocc_orca, fdiag_orca = orca_data[mol]\n",
    "    if nocc_orca != nocc_orbnet:\n",
    "        print(f'{mol}: {nocc_orca=} != {nocc_orbnet=}')\n",
    "    elif not np.allclose(fdiag_orca, fdiag_orbnet):\n",
    "        if not np.allclose(fdiag_orca[:nocc_orca], fdiag_orbnet[:nocc_orbnet]):\n",
    "            maxdiff = np.max(np.abs(fdiag_orca[:nocc_orca] - fdiag_orbnet[:nocc_orbnet]))\n",
    "            print(f'{mol}: Focc differs by {maxdiff}!')\n",
    "        if not np.allclose(fdiag_orca[nocc_orca:], fdiag_orbnet[nocc_orbnet:]):\n",
    "            maxdiff = np.max(np.abs(fdiag_orca[nocc_orca:] - fdiag_orbnet[nocc_orbnet:]))\n",
    "            print(f'{mol}: Fvirt differs by {maxdiff}!')\n",
    "    else:\n",
    "        print(f'{mol}: OK!')"
   ]
  }
 ],
 "metadata": {
  "kernelspec": {
   "display_name": ".venv",
   "language": "python",
   "name": "python3"
  },
  "language_info": {
   "codemirror_mode": {
    "name": "ipython",
    "version": 3
   },
   "file_extension": ".py",
   "mimetype": "text/x-python",
   "name": "python",
   "nbconvert_exporter": "python",
   "pygments_lexer": "ipython3",
   "version": "3.12.3"
  }
 },
 "nbformat": 4,
 "nbformat_minor": 5
}
