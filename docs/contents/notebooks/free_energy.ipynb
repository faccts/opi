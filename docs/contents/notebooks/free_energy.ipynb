{
 "cells": [
  {
   "cell_type": "markdown",
   "id": "aeb4fb60",
   "metadata": {},
   "source": [
    "# WIP: Calculation of free energy\n",
    "\n",
    "This tutorial demonstrates the calculation of free energy using the ORCA python interface (OPI).\n",
    "\n",
    "In this notebook, we will:\n",
    "1. Import the required Python dependencies\n",
    "2. Define a working directory\n",
    "3. Prepare and visualize molecular structures\n",
    "4. Set up and run ORCA calculations\n",
    "5. Compute the free energy difference"
   ]
  },
  {
   "cell_type": "markdown",
   "id": "2d483563",
   "metadata": {},
   "source": [
    "## Step 1: Import Dependencies\n",
    "\n",
    "We start by importing the modules needed for:\n",
    "- Interfacing with ORCA input/output\n",
    "- Plotting results\n",
    "- Handling for directory"
   ]
  },
  {
   "cell_type": "code",
   "execution_count": 27,
   "id": "a28a7858",
   "metadata": {},
   "outputs": [],
   "source": [
    "# > Import libraries for directory handling\n",
    "from pathlib import Path\n",
    "\n",
    "# > OPI imports for performing ORCA calculations and reading output\n",
    "from opi.core import Calculator\n",
    "from opi.output.core import Output\n",
    "from opi.input.structures.structure import Structure\n",
    "from opi.input.simple_keywords import BasisSet, Scf, Dft, SolvationModel, Solvent, Task\n",
    "\n",
    "# > Import libraries for visualization\n",
    "import py3Dmol\n",
    "from IPython.display import display, HTML"
   ]
  },
  {
   "cell_type": "markdown",
   "id": "559a8c9e",
   "metadata": {},
   "source": [
    "## Step 2: Define Working directory\n",
    "\n",
    "All actual calculations will be performed in a subfolder **RUN**."
   ]
  },
  {
   "cell_type": "code",
   "execution_count": 28,
   "id": "40c73d73",
   "metadata": {},
   "outputs": [],
   "source": [
    "# > Create a working directory for calculations if it doesn't already exist\n",
    "working_dir = Path(\"RUN\")\n",
    "working_dir.mkdir(exist_ok=True)"
   ]
  },
  {
   "cell_type": "markdown",
   "id": "a1a477e0",
   "metadata": {},
   "source": [
    "## Step 3: Prepare and Visualize Input Structures\n",
    "\n",
    "We define the XYZ atomic coordinates for the reactant and product molecules.\n"
   ]
  },
  {
   "cell_type": "code",
   "execution_count": 29,
   "id": "ed9c1d0f",
   "metadata": {},
   "outputs": [
    {
     "data": {
      "text/html": [
       "<div style='white-space: nowrap;'>\n",
       "    <div style=\"display:inline-block; text-align:center; margin:10px;\">\n",
       "        <h4>reactant</h4>\n",
       "        <div id=\"3dmolviewer_17508607529826458\"  style=\"position: relative; width: 300px; height: 300px;\">\n",
       "        <p id=\"3dmolwarning_17508607529826458\" style=\"background-color:#ffcccc;color:black\">3Dmol.js failed to load for some reason.  Please check your browser console for error messages.<br></p>\n",
       "        </div>\n",
       "<script>\n",
       "\n",
       "var loadScriptAsync = function(uri){\n",
       "  return new Promise((resolve, reject) => {\n",
       "    //this is to ignore the existence of requirejs amd\n",
       "    var savedexports, savedmodule;\n",
       "    if (typeof exports !== 'undefined') savedexports = exports;\n",
       "    else exports = {}\n",
       "    if (typeof module !== 'undefined') savedmodule = module;\n",
       "    else module = {}\n",
       "\n",
       "    var tag = document.createElement('script');\n",
       "    tag.src = uri;\n",
       "    tag.async = true;\n",
       "    tag.onload = () => {\n",
       "        exports = savedexports;\n",
       "        module = savedmodule;\n",
       "        resolve();\n",
       "    };\n",
       "  var firstScriptTag = document.getElementsByTagName('script')[0];\n",
       "  firstScriptTag.parentNode.insertBefore(tag, firstScriptTag);\n",
       "});\n",
       "};\n",
       "\n",
       "if(typeof $3Dmolpromise === 'undefined') {\n",
       "$3Dmolpromise = null;\n",
       "  $3Dmolpromise = loadScriptAsync('https://cdnjs.cloudflare.com/ajax/libs/3Dmol/2.4.2/3Dmol-min.js');\n",
       "}\n",
       "\n",
       "var viewer_17508607529826458 = null;\n",
       "var warn = document.getElementById(\"3dmolwarning_17508607529826458\");\n",
       "if(warn) {\n",
       "    warn.parentNode.removeChild(warn);\n",
       "}\n",
       "$3Dmolpromise.then(function() {\n",
       "viewer_17508607529826458 = $3Dmol.createViewer(document.getElementById(\"3dmolviewer_17508607529826458\"),{backgroundColor:\"white\"});\n",
       "viewer_17508607529826458.zoomTo();\n",
       "\tviewer_17508607529826458.addModel(\"6\\n\\nC    -0.374640     0.017356     0.209382\\nBr   -2.096602     0.059923     1.182216\\nH    -0.013725    -1.007560     0.247945\\nH     0.297020     0.702181     0.721417\\nH    -0.577587     0.336507    -0.810073\\nF     2.765535    -0.108405    -1.550886\",\"xyz\");\n",
       "\tviewer_17508607529826458.setStyle({\"stick\": {\"radius\": 0.1}, \"sphere\": {\"scale\": 0.2}});\n",
       "\tviewer_17508607529826458.setBackgroundColor(\"white\");\n",
       "\tviewer_17508607529826458.zoomTo();\n",
       "viewer_17508607529826458.render();\n",
       "});\n",
       "</script>\n",
       "    </div>\n",
       "    \n",
       "\n",
       "    <div style=\"display:inline-block; text-align:center; margin:10px;\">\n",
       "        <h4>product</h4>\n",
       "        <div id=\"3dmolviewer_1750860752983765\"  style=\"position: relative; width: 300px; height: 300px;\">\n",
       "        <p id=\"3dmolwarning_1750860752983765\" style=\"background-color:#ffcccc;color:black\">3Dmol.js failed to load for some reason.  Please check your browser console for error messages.<br></p>\n",
       "        </div>\n",
       "<script>\n",
       "\n",
       "var loadScriptAsync = function(uri){\n",
       "  return new Promise((resolve, reject) => {\n",
       "    //this is to ignore the existence of requirejs amd\n",
       "    var savedexports, savedmodule;\n",
       "    if (typeof exports !== 'undefined') savedexports = exports;\n",
       "    else exports = {}\n",
       "    if (typeof module !== 'undefined') savedmodule = module;\n",
       "    else module = {}\n",
       "\n",
       "    var tag = document.createElement('script');\n",
       "    tag.src = uri;\n",
       "    tag.async = true;\n",
       "    tag.onload = () => {\n",
       "        exports = savedexports;\n",
       "        module = savedmodule;\n",
       "        resolve();\n",
       "    };\n",
       "  var firstScriptTag = document.getElementsByTagName('script')[0];\n",
       "  firstScriptTag.parentNode.insertBefore(tag, firstScriptTag);\n",
       "});\n",
       "};\n",
       "\n",
       "if(typeof $3Dmolpromise === 'undefined') {\n",
       "$3Dmolpromise = null;\n",
       "  $3Dmolpromise = loadScriptAsync('https://cdnjs.cloudflare.com/ajax/libs/3Dmol/2.4.2/3Dmol-min.js');\n",
       "}\n",
       "\n",
       "var viewer_1750860752983765 = null;\n",
       "var warn = document.getElementById(\"3dmolwarning_1750860752983765\");\n",
       "if(warn) {\n",
       "    warn.parentNode.removeChild(warn);\n",
       "}\n",
       "$3Dmolpromise.then(function() {\n",
       "viewer_1750860752983765 = $3Dmol.createViewer(document.getElementById(\"3dmolviewer_1750860752983765\"),{backgroundColor:\"white\"});\n",
       "viewer_1750860752983765.zoomTo();\n",
       "\tviewer_1750860752983765.addModel(\"6\\n\\nC     0.502797    -0.015722    -0.287744\\nBr   -2.842982     0.090180     1.619902\\nH     0.275582    -1.020463     0.077795\\nH     0.590517     0.684481     0.546964\\nH    -0.265180     0.319417    -0.989611\\nF     1.739267    -0.057892    -0.967306\",\"xyz\");\n",
       "\tviewer_1750860752983765.setStyle({\"stick\": {\"radius\": 0.1}, \"sphere\": {\"scale\": 0.2}});\n",
       "\tviewer_1750860752983765.setBackgroundColor(\"white\");\n",
       "\tviewer_1750860752983765.zoomTo();\n",
       "viewer_1750860752983765.render();\n",
       "});\n",
       "</script>\n",
       "    </div>\n",
       "    </div>"
      ],
      "text/plain": [
       "<IPython.core.display.HTML object>"
      ]
     },
     "metadata": {},
     "output_type": "display_data"
    }
   ],
   "source": [
    "# > Dictionary of molecule names and their XYZ coordinates\n",
    "xyz_data_list = {\n",
    "    \"reactant\": \"\"\"6\n",
    "\n",
    "C    -0.374640     0.017356     0.209382\n",
    "Br   -2.096602     0.059923     1.182216\n",
    "H    -0.013725    -1.007560     0.247945\n",
    "H     0.297020     0.702181     0.721417\n",
    "H    -0.577587     0.336507    -0.810073\n",
    "F     2.765535    -0.108405    -1.550886\"\"\",\n",
    "    \n",
    "    \"product\": \"\"\"6\n",
    "\n",
    "C     0.502797    -0.015722    -0.287744\n",
    "Br   -2.842982     0.090180     1.619902\n",
    "H     0.275582    -1.020463     0.077795\n",
    "H     0.590517     0.684481     0.546964\n",
    "H    -0.265180     0.319417    -0.989611\n",
    "F     1.739267    -0.057892    -0.967306\"\"\"\n",
    "}\n",
    "\n",
    "# > Visualize the molecular structure using py3Dmol\n",
    "html_views = []\n",
    "for name, xyz_data in xyz_data_list.items():\n",
    "    view = py3Dmol.view(width=300, height=300)\n",
    "    view.addModel(xyz_data, \"xyz\")\n",
    "    view.setStyle({'stick': {'radius': 0.1}, 'sphere': {'scale': 0.2}})\n",
    "\n",
    "    view.setBackgroundColor('white')\n",
    "    view.zoomTo()\n",
    "    html = view._make_html()\n",
    "\n",
    "    # > Save XYZ structure to file\n",
    "    xyz_file_path = working_dir / f\"struc_{name}.xyz\"\n",
    "    with open(xyz_file_path, \"w\") as f:\n",
    "        f.write(xyz_data)\n",
    "\n",
    "    html_div = f\"\"\"\n",
    "    <div style=\"display:inline-block; text-align:center; margin:10px;\">\n",
    "        <h4>{name}</h4>\n",
    "        {html}\n",
    "    </div>\n",
    "    \"\"\"\n",
    "    html_views.append(html_div)\n",
    "full_html = \"<div style='white-space: nowrap;'>\" + \"\\n\".join(html_views) + \"</div>\"\n",
    "display(HTML(full_html))\n"
   ]
  },
  {
   "cell_type": "markdown",
   "id": "b70a956a",
   "metadata": {},
   "source": [
    "## Step 4: Set Up and Run Calculations\n",
    "\n",
    "We set up ORCA calculations using OPI:\n",
    "- Use DFT with B3LYP functional and DEF2-TZVP basis set\n",
    "- Apply CPCM solvation model with water\n",
    "- Perform frequency calculations for thermodynamic data"
   ]
  },
  {
   "cell_type": "code",
   "execution_count": 30,
   "id": "3aa792ef",
   "metadata": {},
   "outputs": [],
   "source": [
    "def check_and_parse_output(output: Output)-> None:\n",
    "    # > Check for proper termination of ORCA\n",
    "    status = output.terminated_normally()\n",
    "    if not status:\n",
    "        # > ORCA did not terminate normally\n",
    "        raise RuntimeError(f\"ORCA did not terminate normally, see output file: {output.get_outfile()}\")\n",
    "    else:\n",
    "        # > ORCA did terminate normally so we can parse the output\n",
    "        output.parse()\n",
    "\n",
    "    # Now check for convergence of the SCF\n",
    "    if output.results_properties.geometries[0].single_point_data.converged:\n",
    "        print(\"ORCA terminated normally and the SCF converged\")\n",
    "    else:\n",
    "        raise RuntimeError(\"SCF DID NOT CONVERGE\")"
   ]
  },
  {
   "cell_type": "code",
   "execution_count": 31,
   "id": "2cfa94d3",
   "metadata": {},
   "outputs": [
    {
     "name": "stdout",
     "output_type": "stream",
     "text": [
      "ORCA terminated normally and the SCF converged\n"
     ]
    }
   ],
   "source": [
    "# > Set up path for structure\n",
    "xyz_file = Path(\"./RUN/struc_reactant.xyz\")\n",
    "\n",
    "# > Create a Calculator object for ORCA input generation and execution\n",
    "calc = Calculator(basename=\"reactant\", working_dir=working_dir)\n",
    "\n",
    "# > Load the molecular structure from XYZ file\n",
    "structure = Structure.from_xyz(xyz_file)\n",
    "calc.structure = structure\n",
    "structure.multiplicity = 1\n",
    "structure.charge = -1\n",
    "\n",
    "# > Add calculation keywords\n",
    "calc.input.add_simple_keywords(\n",
    "      Scf.NOAUTOSTART,\n",
    "      Dft.B3LYP,\n",
    "      BasisSet.DEF2_TZVP,\n",
    "      SolvationModel.CPCM(Solvent.WATER),\n",
    "      Task.FREQ\n",
    ")\n",
    "\n",
    "# > Write the ORCA input file\n",
    "calc.write_input()\n",
    "# > Run the ORCA calculation\n",
    "calc.run()\n",
    "# > Get the output object\n",
    "output_1 = calc.get_output()\n",
    "check_and_parse_output(output_1)"
   ]
  },
  {
   "cell_type": "code",
   "execution_count": 32,
   "id": "d375fb27",
   "metadata": {},
   "outputs": [
    {
     "name": "stdout",
     "output_type": "stream",
     "text": [
      "ORCA terminated normally and the SCF converged\n"
     ]
    }
   ],
   "source": [
    "xyz_file = Path(\"./RUN/struc_product.xyz\")\n",
    "calc = Calculator(basename=\"product\", working_dir=working_dir)\n",
    "structure = Structure.from_xyz(xyz_file)\n",
    "calc.structure = structure\n",
    "structure.multiplicity = 1\n",
    "structure.charge = -1\n",
    "calc.input.add_simple_keywords(\n",
    "      Scf.NOAUTOSTART,\n",
    "      Dft.B3LYP,\n",
    "      BasisSet.DEF2_TZVP,\n",
    "      SolvationModel.CPCM(Solvent.WATER),\n",
    "      Task.FREQ\n",
    ")\n",
    "calc.write_input()\n",
    "calc.run()\n",
    "output_2 = calc.get_output()\n",
    "check_and_parse_output(output_2)"
   ]
  },
  {
   "cell_type": "markdown",
   "id": "09c77e06",
   "metadata": {},
   "source": [
    "## Step 5: Compute the Free Energy Difference\n",
    "We extract the Gibbs free energy of each structure and compute the free energy difference (ΔG) between product and reactant."
   ]
  },
  {
   "cell_type": "code",
   "execution_count": 33,
   "id": "b5ce2b47",
   "metadata": {},
   "outputs": [
    {
     "name": "stdout",
     "output_type": "stream",
     "text": [
      "Gibbs Free Energy Difference:\n",
      "ΔG = -25.01 kcal/mol\n"
     ]
    }
   ],
   "source": [
    "# > Print the Gibbs free energie difference in kcal/mol\n",
    "hartree_to_kcalmol = 627.509\n",
    "\n",
    "freeEnergy_reactant = output_1.results_properties.geometries[0].thermochemistry_energies[0].freeenergyg * hartree_to_kcalmol\n",
    "freeEnergy_product = output_2.results_properties.geometries[0].thermochemistry_energies[0].freeenergyg * hartree_to_kcalmol\n",
    "delta_G = freeEnergy_product - freeEnergy_reactant\n",
    "\n",
    "print(\"Gibbs Free Energy Difference:\")\n",
    "print(f\"ΔG = {delta_G:.2f} kcal/mol\")"
   ]
  }
 ],
 "metadata": {
  "kernelspec": {
   "display_name": ".venv",
   "language": "python",
   "name": "python3"
  },
  "language_info": {
   "codemirror_mode": {
    "name": "ipython",
    "version": 3
   },
   "file_extension": ".py",
   "mimetype": "text/x-python",
   "name": "python",
   "nbconvert_exporter": "python",
   "pygments_lexer": "ipython3",
   "version": "3.12.3"
  }
 },
 "nbformat": 4,
 "nbformat_minor": 5
}
